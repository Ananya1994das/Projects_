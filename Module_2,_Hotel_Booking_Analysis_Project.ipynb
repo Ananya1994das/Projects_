{
  "nbformat": 4,
  "nbformat_minor": 0,
  "metadata": {
    "colab": {
      "private_outputs": true,
      "provenance": [],
      "collapsed_sections": [
        "vncDsAP0Gaoa",
        "beRrZCGUAJYm",
        "yQaldy8SH6Dl",
        "PH-0ReGfmX4f",
        "mDgbUHAGgjLW",
        "O_i_v8NEhb9l",
        "HhfV-JJviCcP",
        "Y3lxredqlCYt",
        "3RnN4peoiCZX",
        "x71ZqKXriCWQ",
        "7hBIi_osiCS2",
        "JlHwYmJAmNHm",
        "35m5QtbWiB9F",
        "PoPl-ycgm1ru",
        "H0kj-8xxnORC",
        "nA9Y7ga8ng1Z",
        "PBTbrJXOngz2",
        "u3PMJOP6ngxN",
        "dauF4eBmngu3",
        "bKJF3rekwFvQ",
        "MSa1f5Uengrz",
        "GF8Ens_Soomf",
        "0wOQAZs5pc--",
        "K5QZ13OEpz2H",
        "lQ7QKXXCp7Bj",
        "448CDAPjqfQr",
        "xJivPyE8q_2k",
        "azX1PEddq_20",
        "iyKleWeyq_20",
        "8-UX51ofq_21",
        "Of3PJYNbrGff",
        "w8bcvZxarGfg",
        "HZ6txCBBrGfh",
        "jbkhcZqdrGfh",
        "riLp7y9brHca",
        "Uw0GT_uHrHcb",
        "qTEiGUKorHcc",
        "1Qw8mtL3rHcd",
        "xnMZvg2orIPt",
        "mwHQVoIQrIPu",
        "Kwy5hImkrIPu",
        "0sjxqkK0rIPv",
        "y7avNpR9HL5z",
        "Z5yPuW4iHL50",
        "3vIdo55JHL50",
        "IlhlbgNBHL51",
        "oQ-pHCWMHO92",
        "DEMFeE18HO92",
        "MR3eS7xTHO93",
        "JmI1Y4YbHO93",
        "XGShqbS2HSAY",
        "B4XxyvTzHSAZ",
        "Mal1wQlpHSAZ",
        "BgP_e3WlHSAZ",
        "I3aNiIh9fKqZ",
        "hTF1e9PwfKqa",
        "1xrBLU6IfKqa",
        "yiLHMWFSfKqb",
        "NC_X3p0fY2L0",
        "UV0SzAkaZNRQ",
        "YPEH6qLeZNRQ",
        "q29F0dvdveiT",
        "EXh0U9oCveiU",
        "22aHeOlLveiV",
        "JcMwzZxoAimU",
        "8G2x9gOozGDZ",
        "gCX9965dhzqZ",
        "gIfDvo9L0UH2"
      ],
      "include_colab_link": true
    },
    "kernelspec": {
      "name": "python3",
      "display_name": "Python 3"
    },
    "language_info": {
      "name": "python"
    }
  },
  "cells": [
    {
      "cell_type": "markdown",
      "metadata": {
        "id": "view-in-github",
        "colab_type": "text"
      },
      "source": [
        "<a href=\"https://colab.research.google.com/github/Ananya1994das/Projects_/blob/main/Module_2%2C_Hotel_Booking_Analysis_Project.ipynb\" target=\"_parent\"><img src=\"https://colab.research.google.com/assets/colab-badge.svg\" alt=\"Open In Colab\"/></a>"
      ]
    },
    {
      "cell_type": "markdown",
      "source": [
        "# **Project Name**    -  **Hotel Booking Analysis**\n",
        "\n"
      ],
      "metadata": {
        "id": "vncDsAP0Gaoa"
      }
    },
    {
      "cell_type": "markdown",
      "source": [
        "##### **Project Type**    - EDA\n",
        "##### **Contribution**    - Individual\n"
      ],
      "metadata": {
        "id": "beRrZCGUAJYm"
      }
    },
    {
      "cell_type": "markdown",
      "source": [
        "# **Project Summary**\n"
      ],
      "metadata": {
        "id": "yQaldy8SH6Dl"
      }
    },
    {
      "cell_type": "markdown",
      "source": [
        "The goal of this project is to analyze a dataset of hotel bookings to extract key insights that can help the hotel management understand booking patterns, guest behavior, and potential areas for improvement.This data set contains booking information for a city hotel and resort hotel, and includes information such as when the booking was made, length of stay, the number of adults, children, and/or babies, and the number of available parking spaces,among other things.It consists of 1,19,390 observations and 32 variables.Each observation represents a hotel booking.This projects's principal aim is to dig deep into this extensive data, identify significant trends,patterns and insights pertaining to hotel booking activities, and present these discoveries visuallly for an enhanced understanding.\n",
        "\n",
        "Our analysis can help us understand the given data and we can draw some useful insights to make some crucial business decisions regarding the factors affecting the bookings of the hotels.In hotel industry,cancellations of booking and average daily rate(ADR) are two important factors that affects the business.By understanding the factors that are determining the cancellation of certain bookings, the hotels can take necessary precautions to reduce the cancellation rate.By understanding the patterns in ADR against different variables, the hotels can be prepared in advance to generate more revenue and make a profitable business.\n",
        "\n",
        "Exploratory Data Analysis(EDA):It refers to the critical process of performing initial investigations on data so as to discover patterns, to spot anomalies , to test hypothesis and to check assumptions with the help of summary statistics and graphical representations.The following are the various steps performed as a part of EDA\n",
        "\n",
        "\n",
        "1.Descriptive Statistics\n",
        "Summary Statistics: Calculate basic metrics like mean, median, and standard deviation to understand the distribution of numerical data (e.g., lead time, ADR).\n",
        "2. Missing Data Analysis\n",
        "Identify Missing Values: Check for and handle missing values, especially in columns with a lot of nulls like company and agent.\n",
        "3. Categorical Data Analysis\n",
        "Frequency Counts: Examine how often each category appears in variables like hotel type, meal type, and market segment.\n",
        "4. Correlation Analysis\n",
        "Correlation Matrix: Determine relationships between numerical variables, like the correlation between lead time and cancellations.\n",
        "5. Bivariate Analysis\n",
        "Compare Groups: Analyze how numerical values vary across different categories (e.g., ADR across different hotel types).\n",
        "6. Time Series Analysis\n",
        "Trends Over Time: Analyze how bookings, cancellations, and ADR change over months or years to identify seasonality.\n",
        "7. Multivariate Analysis\n",
        "Explore Multiple Variables: Look at relationships between several variables simultaneously to uncover complex patterns.\n",
        "8. Outlier Detection\n",
        "Identify Outliers: Find and analyze extreme values that might affect your analysis, such as very high or low ADR.\n",
        "9. Cancellation Analysis\n",
        "Cancellation Patterns: Study factors that contribute to cancellations, such as lead time or previous cancellation history.\n",
        "10. Revenue Analysis\n",
        "ADR Insights: Examine factors that influence average daily rates (ADR), such as room type or booking period.\n",
        "11. Customer Behavior Analysis\n",
        "Repeat Guests: Analyze the behavior of repeat guests compared to first-time guests.\n",
        "12. Geographical Analysis\n",
        "Country Distribution: Visualize where most guests come from and how it affects booking patterns.\n",
        "13. Feature Engineering\n",
        "Create New Variables: Develop new features based on insights (e.g., categorize lead time into short/long).\n",
        "14. Hypothesis Testing\n",
        "Statistical Validation: Use tests to confirm if observed patterns are statistically significant."
      ],
      "metadata": {
        "id": "eR1tLRtBAxHS"
      }
    },
    {
      "cell_type": "markdown",
      "source": [
        "**Problem Statement**\n",
        "\n",
        "We are here to explore a hotel booking dataset to discover important factors that govern the bookings, which contain booking information for a city hotel and a resort hotel. We will analyze some important aspects of hotel bookings which will helps us identify major loopholes and give us insights which will be helpful to run profitable hotel business.\n",
        "\n",
        "**Business Objective **\n",
        "\n",
        "\n",
        "The best time of year to book a hotel room?\n",
        "Optimal length of stay to get the best daily rate?\n",
        "To predict whether or not a hotel was likely to receive a disproportionately high number of special requests?\n",
        "Define Your Business Objective?\n",
        "In Hotel industry, Cancellation and Average Daily Rate are two important factors that help run the business effectively.\n",
        "\n",
        "By understanding the factors that are determining the cancellation of a certain booking, the hotels can take necessary precautions to reduce Cancellation rate.\n",
        "By understanding the patterns in ADR against different variables, the hotels can be prepared in advance to generate more revenue and help make a profitable business. Our goal here is to understand such factors in the given data set by performing Exploratory Data Analysis"
      ],
      "metadata": {
        "id": "PH-0ReGfmX4f"
      }
    },
    {
      "cell_type": "markdown",
      "source": [],
      "metadata": {
        "id": "wbg3Py4w22JF"
      }
    },
    {
      "cell_type": "markdown",
      "source": [
        "# **GitHub Link -**"
      ],
      "metadata": {
        "id": "GPo_DH0R2n0l"
      }
    },
    {
      "cell_type": "markdown",
      "source": [
        "https://github.com/Ananya1994das/Projects_/blob/main/Module_2%2C_Hotel_Booking_Analysis_Project.ipynb\n"
      ],
      "metadata": {
        "id": "_yf1Qw5P2sID"
      }
    },
    {
      "cell_type": "markdown",
      "source": [
        "# **General Guidelines** : -  "
      ],
      "metadata": {
        "id": "mDgbUHAGgjLW"
      }
    },
    {
      "cell_type": "markdown",
      "source": [
        "1.   Well-structured, formatted, and commented code is required.\n",
        "2.   Exception Handling, Production Grade Code & Deployment Ready Code will be a plus. Those students will be awarded some additional credits.\n",
        "     \n",
        "     The additional credits will have advantages over other students during Star Student selection.\n",
        "       \n",
        "             [ Note: - Deployment Ready Code is defined as, the whole .ipynb notebook should be executable in one go\n",
        "                       without a single error logged. ]\n",
        "\n",
        "3.   Each and every logic should have proper comments.\n",
        "4. You may add as many number of charts you want. Make Sure for each and every chart the following format should be answered.\n",
        "        \n",
        "\n",
        "```\n",
        "# Chart visualization code\n",
        "```\n",
        "            \n",
        "\n",
        "*   Why did you pick the specific chart?\n",
        "*   What is/are the insight(s) found from the chart?\n",
        "* Will the gained insights help creating a positive business impact?\n",
        "Are there any insights that lead to negative growth? Justify with specific reason.\n",
        "\n",
        "\n",
        "5. You have to create at least 20 logical & meaningful charts having important insights.\n",
        "\n",
        "[ Hints : - Do the Vizualization in  a structured way while following \"UBM\" Rule.\n",
        "\n",
        "U - Univariate Analysis,\n",
        "\n",
        "B - Bivariate Analysis (Numerical - Categorical, Numerical - Numerical, Categorical - Categorical)\n",
        "\n",
        "M - Multivariate Analysis\n",
        " ]\n",
        "\n",
        "\n",
        "\n",
        "\n",
        "\n"
      ],
      "metadata": {
        "id": "ZrxVaUj-hHfC"
      }
    },
    {
      "cell_type": "markdown",
      "source": [
        "# ***Let's Begin !***"
      ],
      "metadata": {
        "id": "O_i_v8NEhb9l"
      }
    },
    {
      "cell_type": "markdown",
      "source": [
        "## ***1. Know Your Data***"
      ],
      "metadata": {
        "id": "HhfV-JJviCcP"
      }
    },
    {
      "cell_type": "markdown",
      "source": [
        "### Import Libraries"
      ],
      "metadata": {
        "id": "Y3lxredqlCYt"
      }
    },
    {
      "cell_type": "code",
      "source": [
        "# Import Libraries\n",
        "import numpy as np\n",
        "import pandas as pd\n",
        "import seaborn as sns\n",
        "import matplotlib.pyplot as plt"
      ],
      "metadata": {
        "id": "M8Vqi-pPk-HR"
      },
      "execution_count": null,
      "outputs": []
    },
    {
      "cell_type": "markdown",
      "source": [
        "### Dataset Loading"
      ],
      "metadata": {
        "id": "3RnN4peoiCZX"
      }
    },
    {
      "cell_type": "code",
      "source": [
        "from google.colab import drive\n",
        "drive.mount('/content/drive')"
      ],
      "metadata": {
        "id": "nX6XjTMBTQXU"
      },
      "execution_count": null,
      "outputs": []
    },
    {
      "cell_type": "code",
      "source": [
        "# Importing the dataset\n",
        "hotel_booking_df=pd.read_csv('/content/drive/MyDrive/Projects/Hotel Bookings.csv')"
      ],
      "metadata": {
        "id": "4CkvbW_SlZ_R"
      },
      "execution_count": null,
      "outputs": []
    },
    {
      "cell_type": "markdown",
      "source": [
        "### Dataset First View"
      ],
      "metadata": {
        "id": "x71ZqKXriCWQ"
      }
    },
    {
      "cell_type": "code",
      "source": [
        "# Dataset First\n",
        "hotel_booking_df.head()\n"
      ],
      "metadata": {
        "id": "LWNFOSvLl09H"
      },
      "execution_count": null,
      "outputs": []
    },
    {
      "cell_type": "code",
      "source": [
        "hotel_booking_df.tail()"
      ],
      "metadata": {
        "id": "3PqG5vw-eiqw"
      },
      "execution_count": null,
      "outputs": []
    },
    {
      "cell_type": "markdown",
      "source": [
        "### Dataset Rows & Columns count"
      ],
      "metadata": {
        "id": "7hBIi_osiCS2"
      }
    },
    {
      "cell_type": "code",
      "source": [
        "# Dataset Rows & Columns count\n",
        "shape=hotel_booking_df.shape\n",
        "print('No. of rows =',shape[0])\n",
        "print('No. of columns =',shape[1])"
      ],
      "metadata": {
        "id": "Kllu7SJgmLij"
      },
      "execution_count": null,
      "outputs": []
    },
    {
      "cell_type": "markdown",
      "source": [
        "### Dataset Information"
      ],
      "metadata": {
        "id": "JlHwYmJAmNHm"
      }
    },
    {
      "cell_type": "code",
      "source": [
        "# Dataset Info\n",
        "hotel_booking_df.info()\n"
      ],
      "metadata": {
        "id": "e9hRXRi6meOf"
      },
      "execution_count": null,
      "outputs": []
    },
    {
      "cell_type": "code",
      "source": [
        "hotel_booking_df.describe()"
      ],
      "metadata": {
        "id": "ZH9j_vHfusP6"
      },
      "execution_count": null,
      "outputs": []
    },
    {
      "cell_type": "markdown",
      "source": [
        "#### Duplicate Values"
      ],
      "metadata": {
        "id": "35m5QtbWiB9F"
      }
    },
    {
      "cell_type": "code",
      "source": [
        "# Dataset Duplicate Value Count\n",
        "hotel_booking_df.duplicated().sum()"
      ],
      "metadata": {
        "id": "1sLdpKYkmox0"
      },
      "execution_count": null,
      "outputs": []
    },
    {
      "cell_type": "markdown",
      "source": [
        "#### Missing Values/Null Values"
      ],
      "metadata": {
        "id": "PoPl-ycgm1ru"
      }
    },
    {
      "cell_type": "code",
      "source": [
        "# Missing Values/Null Values Count\n",
        "for i in hotel_booking_df.columns.tolist():\n",
        "  if hotel_booking_df[i].isnull().sum()>0:\n",
        "    print(f'total number of missing values in {i} column is {hotel_booking_df[i].isnull().sum()}')\n"
      ],
      "metadata": {
        "id": "GgHWkxvamxVg"
      },
      "execution_count": null,
      "outputs": []
    },
    {
      "cell_type": "code",
      "source": [
        "# Check Unique Values for each variable.\n",
        "for i in hotel_booking_df.columns.tolist():\n",
        "  print(\"No. of unique values in \",i,\"is\",hotel_booking_df[i].nunique(),\".\")"
      ],
      "metadata": {
        "id": "zms12Yq5n-jE"
      },
      "execution_count": null,
      "outputs": []
    },
    {
      "cell_type": "markdown",
      "source": [
        "## ***2. Understanding Your Variables***\n",
        "\n",
        "**What did you know about your dataset?**\n",
        "\n",
        "The dataset contains the following variables:-\n",
        "\n",
        "**Variables Description**\n",
        "\n",
        "\n",
        "The dataset contains 32 columns, each representing a different attribute related to hotel bookings. These columns include:\n",
        "\n",
        "**hotel:** Type of the hotel (Categorical)\n",
        "\n",
        "**is_cancelled :** Whether booking is cancelled (cancelled = 1, not cancelled = 0) (numerical)\n",
        "\n",
        "**lead_time:** The number of days elapsed between the booking and the arrival date of the guests (numerical)\n",
        "\n",
        "**arrival_date_year**:Year of the arrival (numerical)\n",
        "\n",
        "**arrival_date_month:** Month of the arrival (numerical)\n",
        "\n",
        "**arrival_date_week_number:** Week of the arrival (numerical)\n",
        "\n",
        "**arrival_date_day_of_the_month:** Day of the arrival (numerical)\n",
        "\n",
        "**stays_in_weekend_nights:** Number of weekend nights stayed (numerical)\n",
        "\n",
        "**stays_in_week_nights :** Number of week nights stayed (numerical)\n",
        "\n",
        "**adults**: Number of adults (numerical)\n",
        "\n",
        "**children:** Number of children (numerical)\n",
        "\n",
        "**babies :** Number of babies (numerical)\n",
        "\n",
        "**meal**: Type of meal (categorical)\n",
        "\n",
        "**country:** Country of the guest (categorical)\n",
        "\n",
        "**market_segment**: Which segment the customer belongs to (categorical)\n",
        "\n",
        "**Disribution_channel:** Through which means guest got booking (categorical)\n",
        "\n",
        "**is _repeated _guest:** Whether the guest is repeated(repeated = 1, not repeated = 0) (categorical)\n",
        "\n",
        "**previous_cancellation:** Is there any previous cancellations of the guest (numerical)\n",
        "\n",
        "**previous_booking:** Number of completed bookings of the guest (numerical)\n",
        "\n",
        "**reserved_room_type:** Type of the room guest booked (categorical)\n",
        "\n",
        "**assigned_room_type:** Room assigned to the guest for the booking (categorical)\n",
        "\n",
        "**booking_changes:** Number of changes made in the booking (numerical)\n",
        "\n",
        "**deposit_ type:** Type of deposit the guest made (categorical)\n",
        "\n",
        "**agent:** ID of the agent (categorical)\n",
        "\n",
        "**company:** ID of the company (categorical)\n",
        "\n",
        "**days_in_waiting_list:** Number of days to wait (numerical)\n",
        "\n",
        "**customer_type:** Type of the customer (categorical)\n",
        "\n",
        "**adr:** Average daily rate(ADR) (numerical)\n",
        "\n",
        "**required_car _parking**: Number of car parking spaces required to the guest (numerical)\n",
        "\n",
        "**total_of_special_requests**: Special requests made by the guests (numerical)\n",
        "\n",
        "**reservation_status:** Status of the reservation (categorical)\n",
        "\n",
        "**reservation_status_date** :Date of reservation (categorical)\n",
        "\n",
        "\n",
        "*  Null/Missing values in agent,country,children and company columns.completeness issue\n",
        "*   hotel,meal,country,market_segment,distribution_channel,assigned_room_type,reserved_room_type,deposit_type,customer_type,reservation_status, is_canceled and is_repeated_guest columns can be of categorical dtype.validity issue\n",
        "*   children,company and agent columns dtype should be int instead of float.validity issue\n",
        "*   reservation_status_date column dtype should be datetime instead of object.validity issue\n",
        "*   31994 duplicate rows in the dataset.validity issue\n",
        "*   company column and arrival_date_week_number column are redundant.\n"
      ],
      "metadata": {
        "id": "nA9Y7ga8ng1Z"
      }
    },
    {
      "cell_type": "markdown",
      "source": [
        "## 3. ***Data Wrangling***"
      ],
      "metadata": {
        "id": "dauF4eBmngu3"
      }
    },
    {
      "cell_type": "code",
      "source": [
        "# 'agent' & 'company' are two columns with huge amount of null values in it.\n",
        "# These are also not so essential for this analysis so we can drop these two columns.\n",
        "\n",
        "new_hotel_df = hotel_booking_df.drop(['agent','company'],axis = 1)\n",
        "new_hotel_df\n",
        "\n",
        "# 'new_hotel_df' is the new dataframe we created which does not include 'agent' & 'company' columns."
      ],
      "metadata": {
        "id": "xbV_0z9h3zRY"
      },
      "execution_count": null,
      "outputs": []
    },
    {
      "cell_type": "code",
      "source": [
        "# 'children' & 'country' are two remaining columns which has null values.\n",
        "# We will rather replace the null values in this columns as number of null values are lesser than previous two columns.\n",
        "\n",
        "new_hotel_df['country'].fillna(new_hotel_df['country'].mode().to_string(), inplace=True)\n",
        "new_hotel_df['children'].fillna(round(new_hotel_df['children'].mean()), inplace=True)\n",
        "\n",
        "# Replacing null values of 'country' column with the mode value of the column.\n",
        "# Replacing null values of 'children' column with the mean value of the column."
      ],
      "metadata": {
        "id": "AadEc5cX8BdR"
      },
      "execution_count": null,
      "outputs": []
    },
    {
      "cell_type": "code",
      "source": [
        "# Re-checking the number of null values to ensure the data cleaning is successful.\n",
        "new_hotel_df.isnull().sum()\n",
        "\n",
        "# We observe that there are no more null values in the dataset so, the data is cleaned."
      ],
      "metadata": {
        "id": "XugESJ368Llt"
      },
      "execution_count": null,
      "outputs": []
    },
    {
      "cell_type": "code",
      "source": [
        "#deleting all duplicate rows\n",
        "new_hotel_df.drop_duplicates(inplace=True)"
      ],
      "metadata": {
        "id": "PaPWuHPHbnEw"
      },
      "execution_count": null,
      "outputs": []
    },
    {
      "cell_type": "code",
      "source": [
        "# changing dtype of certain columns to category dtype\n",
        "cat_lst=['hotel','meal','country','market_segment','distribution_channel','assigned_room_type','reserved_room_type','deposit_type','customer_type','reservation_status', 'is_canceled', 'is_repeated_guest']\n",
        "for i in cat_lst:\n",
        "  new_hotel_df[i]=new_hotel_df[i].astype('category')"
      ],
      "metadata": {
        "id": "gjpMgyn9bpPd"
      },
      "execution_count": null,
      "outputs": []
    },
    {
      "cell_type": "code",
      "source": [
        "# changing dtype of certain columns to int dtype\n",
        "int_lst=['children']\n",
        "for i in int_lst:\n",
        "  new_hotel_df[i]=new_hotel_df[i].astype(int)"
      ],
      "metadata": {
        "id": "ahXydka4bpM5"
      },
      "execution_count": null,
      "outputs": []
    },
    {
      "cell_type": "code",
      "source": [
        "# changing reservation_status_date column dtype from object to datetime\n",
        "new_hotel_df['reservation_status_date']= pd.to_datetime(new_hotel_df['reservation_status_date'],format='%Y-%m-%d')"
      ],
      "metadata": {
        "id": "1WlgD9d-bpKQ"
      },
      "execution_count": null,
      "outputs": []
    },
    {
      "cell_type": "code",
      "source": [
        "# Creating a new column which will show total number of night stays.\n",
        "new_hotel_df['total_night_stays'] = new_hotel_df['stays_in_weekend_nights']+ new_hotel_df['stays_in_week_nights']\n",
        "new_hotel_df"
      ],
      "metadata": {
        "id": "63woAqbV5Qsz"
      },
      "execution_count": null,
      "outputs": []
    },
    {
      "cell_type": "code",
      "source": [
        "# Creating a new column which will show total number of members.\n",
        "new_hotel_df.loc[:, 'Total_members'] = (\n",
        "    new_hotel_df['adults'] +\n",
        "    new_hotel_df['children'] +\n",
        "    new_hotel_df['babies']\n",
        ")\n"
      ],
      "metadata": {
        "id": "RG80YzJ17opG"
      },
      "execution_count": null,
      "outputs": []
    },
    {
      "cell_type": "code",
      "source": [
        "# Creating a new column which will show total number of night stays.\n",
        "new_hotel_df.loc[:, 'total_no._of_nights'] = (\n",
        "    new_hotel_df['stays_in_weekend_nights'] +\n",
        "    new_hotel_df['stays_in_week_nights']\n",
        ")\n",
        "\n"
      ],
      "metadata": {
        "id": "rX1Dvtt_QNTW"
      },
      "execution_count": null,
      "outputs": []
    },
    {
      "cell_type": "code",
      "source": [
        "#dropping the row containing value of ADR=5400\n",
        "new_hotel_df=new_hotel_df[new_hotel_df['adr']<5000]\n"
      ],
      "metadata": {
        "id": "m6Ymo1v9QoJC"
      },
      "execution_count": null,
      "outputs": []
    },
    {
      "cell_type": "code",
      "source": [
        "#checking the shape of the dataset after all manipulations\n",
        "new_hotel_df.shape\n"
      ],
      "metadata": {
        "id": "eWOhJKcbQMj8"
      },
      "execution_count": null,
      "outputs": []
    },
    {
      "cell_type": "code",
      "source": [
        "new_hotel_df.describe()"
      ],
      "metadata": {
        "id": "dD9NydtUQNvN"
      },
      "execution_count": null,
      "outputs": []
    },
    {
      "cell_type": "code",
      "source": [
        "new_hotel_df.info()"
      ],
      "metadata": {
        "id": "0PCWjY1SQ-X7"
      },
      "execution_count": null,
      "outputs": []
    },
    {
      "cell_type": "markdown",
      "source": [
        "### What all manipulations have you done and insights you found?\n",
        "\n",
        "Dropped all the duplicate rows.\n",
        "\n",
        "Dropped company and agent column as it contains 94% Null values.\n",
        "\n",
        "Replaced all the null values in the country and children column with mode and mean as number of null values are lesser\n",
        "\n",
        "Changed dtype of certain columns to category,int,datetime dtype.\n",
        "\n",
        "Dropped the row containing value of ADR=5400,which is a outlier.\n",
        "\n",
        "By converting the 'reservation _status _date column to a different datatype, such as datetime, we can extract information based on quarters, months, or years. This allows us to analyze the booking patterns over different time periods.\n",
        "\n",
        "Another new column we added is 'total_no._of_nights', which represents the total number of nights for each booking. This allows us to examine the bookings from the perspective of the duration of stay."
      ],
      "metadata": {
        "id": "MSa1f5Uengrz"
      }
    },
    {
      "cell_type": "markdown",
      "source": [
        "## ***4. Data Vizualization, Storytelling & Experimenting with charts : Understand the relationships between variables***\n",
        "\n",
        "**How about look into individual attributes and make useful plots to create insights?**"
      ],
      "metadata": {
        "id": "GF8Ens_Soomf"
      }
    },
    {
      "cell_type": "markdown",
      "source": [
        "# Overview of the type of hotel\n",
        "\n",
        "Since there are only 2 types (resort or city), we can simply use a barchart or pie chart to show."
      ],
      "metadata": {
        "id": "0wOQAZs5pc--"
      }
    },
    {
      "cell_type": "code",
      "source": [
        "# Enlarging the pie chart\n",
        "plt.rcParams['figure.figsize'] = 6,6\n",
        "\n",
        "# Indexing labels. tolist() will convert the index to list for easy manipulation\n",
        "labels = new_hotel_df['hotel'].value_counts().index.tolist()\n",
        "\n",
        "# Convert value counts to list\n",
        "sizes = new_hotel_df['hotel'].value_counts().tolist()\n",
        "\n",
        "# As the name suggest, explode will determine how much each section is separated from each other\n",
        "explode = (0, 0.1)\n",
        "\n",
        "# Determine colour of pie chart\n",
        "colors = ['lightskyblue','yellow']\n",
        "\n",
        "# Putting them together. Sizes with the count, explode with the magnitude of separation between pies, colors with the colors,\n",
        "# autopct enables you to display the percent value using Python string formatting. .1f% will round off to the tenth place.\n",
        "# startangle will allow the percentage to rotate counter-clockwise. Lets say we have 4 portions: 10%, 30%, 20% and 40%. The pie will rotate from smallest to the biggest (counter clockwise). 10% -> 20% -> 30% -> 40%\n",
        "# We have only 2 sections so anglestart does not matter\n",
        "# textprops will adjust the size of text\n",
        "plt.pie(sizes, explode=explode, labels=labels, colors=colors, autopct='%1.1f%%',startangle=90, textprops={'fontsize': 14})"
      ],
      "metadata": {
        "id": "gX3MroyY53-a"
      },
      "execution_count": null,
      "outputs": []
    },
    {
      "cell_type": "markdown",
      "source": [
        "**What do we see here?**\n",
        "\n",
        "It seems that a huge proportion of hotels was city hotel. Resort hotel tend to be on the expensive side and that is the reason most people just stick with city hotel.\n"
      ],
      "metadata": {
        "id": "ngCn6KzR6ylV"
      }
    },
    {
      "cell_type": "markdown",
      "source": [
        "# Let's have an overview of the number of people who booked the hotel."
      ],
      "metadata": {
        "id": "I7XnDbTL7B1r"
      }
    },
    {
      "cell_type": "code",
      "source": [
        "# Looking into adults.\n",
        "# Using groupby to group according to hotel types only.\n",
        "new_hotel_df['adults'].groupby(new_hotel_df['hotel']).describe()"
      ],
      "metadata": {
        "id": "7v_ESjsspbW7"
      },
      "execution_count": null,
      "outputs": []
    },
    {
      "cell_type": "code",
      "source": [
        "# Looking into children.\n",
        "# Using groupby to group according to hotel types only.\n",
        "new_hotel_df['children'].groupby(new_hotel_df['hotel']).describe()"
      ],
      "metadata": {
        "id": "TqHUiJYa-FXl"
      },
      "execution_count": null,
      "outputs": []
    },
    {
      "cell_type": "markdown",
      "source": [
        "**What do we see here?**\n",
        "\n",
        "It seems that mean values for children are higher. This means that resort hotels are better choice for large families.:"
      ],
      "metadata": {
        "id": "DJ7BiNsg-PzD"
      }
    },
    {
      "cell_type": "markdown",
      "source": [
        "# Overview of canceled bookings"
      ],
      "metadata": {
        "id": "9C9Te60u-eUF"
      }
    },
    {
      "cell_type": "code",
      "source": [
        "new_hotel_df.loc[:, 'is_canceled'] = new_hotel_df['is_canceled'].replace([1, 0], ['canceled', 'not_canceled'])\n",
        "canceled_data = new_hotel_df['is_canceled']\n",
        "\n",
        "sns.countplot(x=canceled_data)\n"
      ],
      "metadata": {
        "id": "EvqOrOrk-jVN"
      },
      "execution_count": null,
      "outputs": []
    },
    {
      "cell_type": "markdown",
      "source": [
        "**What do we see here?**\n",
        "\n",
        "It seen that there is a an approximation of 40% of the bookings getting canceled which should be taken care off. The hotel should look into the cancellations happening. This may be done by maybe collecting feedbacks for the cancellation."
      ],
      "metadata": {
        "id": "2X3BJJxwBlYE"
      }
    },
    {
      "cell_type": "markdown",
      "source": [
        "# Let's look into cancellation rate among different type of hotel."
      ],
      "metadata": {
        "id": "3Nn53J0E-VUX"
      }
    },
    {
      "cell_type": "code",
      "source": [
        "# Cancellation data of hotels(0 = Not cancelled & 1 = Cancelled)\n",
        "booking_cancelled = new_hotel_df.groupby(['hotel','is_canceled'])['is_canceled'].count().unstack()\n",
        "booking_cancelled"
      ],
      "metadata": {
        "id": "DLzIXJJuBw_n"
      },
      "execution_count": null,
      "outputs": []
    },
    {
      "cell_type": "code",
      "source": [
        "# Visualising cancellation data.\n",
        "booking_cancelled.plot(kind='bar',figsize=(11,6),color=['seagreen','greenyellow'],fontsize=13)\n",
        "plt.title('''CANCELLATION STATUS\n",
        "\n",
        "(0 = Not cancelled & 1 = Cancelled)''',fontsize = 10)\n",
        "plt.xlabel('HOTEL',fontsize = 15)\n",
        "plt.ylabel('COUNT',fontsize = 15)\n",
        "plt.show()"
      ],
      "metadata": {
        "id": "uO9_ZZlyE0mY"
      },
      "execution_count": null,
      "outputs": []
    },
    {
      "cell_type": "markdown",
      "source": [
        "**What do we see here?**\n",
        "\n",
        "We have seen a huge proportion of cancellation from city hotel. This was expected since most of the hotel bookings belong to city hotels.\n"
      ],
      "metadata": {
        "id": "4e04AGxNFQOp"
      }
    },
    {
      "cell_type": "markdown",
      "source": [
        "# Overview of arrival period"
      ],
      "metadata": {
        "id": "xMO3eaYSGDM_"
      }
    },
    {
      "cell_type": "code",
      "source": [
        "lst3 = ['hotel', 'arrival_date_year', 'arrival_date_month','arrival_date_day_of_month' ]\n",
        "period_arrival = new_hotel_df[lst3]\n",
        "sns.countplot(data= period_arrival, x = 'arrival_date_year', hue = 'hotel')"
      ],
      "metadata": {
        "id": "JXOMVEG1qF3Q"
      },
      "execution_count": null,
      "outputs": []
    },
    {
      "cell_type": "code",
      "source": [
        "plt.figure(figsize=(20,5))\n",
        "\n",
        "sns.countplot(data = period_arrival, x = 'arrival_date_month', hue = 'hotel', order = ['January', 'February', 'March', 'April', 'May', 'June', 'July',\n",
        "          'August', 'September', 'October', 'November', 'December']).set_title('Graph showing number of arrival per month',fontsize=20)\n",
        "plt.xlabel('Month')\n",
        "plt.ylabel('Count')"
      ],
      "metadata": {
        "id": "F0nALBWqjpF_"
      },
      "execution_count": null,
      "outputs": []
    },
    {
      "cell_type": "code",
      "source": [
        "plt.figure(figsize=(15,5))\n",
        "\n",
        "sns.countplot(data = period_arrival, x = 'arrival_date_day_of_month', hue = 'hotel').set_title('Graph showing number of arrival per day', fontsize = 20)"
      ],
      "metadata": {
        "id": "lKyyZhKwjuth"
      },
      "execution_count": null,
      "outputs": []
    },
    {
      "cell_type": "markdown",
      "source": [
        "**So what do we see?**\n",
        "\n",
        "We can see that 2016 seems the year where hotel booking is at its highest.Whereas booking has dropped on 2017 comparatively.\n",
        "\n",
        "We also see an increasing trend in booking around the middle of the year, with August being the highest. Summer ends around August, followed straight by autumn. It seems that summer period is a peak period for hotel booking.\n",
        "\n",
        "We do notice a roller coaster trend for the arrival day of month."
      ],
      "metadata": {
        "id": "q8owTtS-k1VB"
      }
    },
    {
      "cell_type": "markdown",
      "source": [
        "# Let's dig deeper into whether the stay is over a weekend or weekday."
      ],
      "metadata": {
        "id": "OyXWTVxPmHRX"
      }
    },
    {
      "cell_type": "code",
      "source": [
        "plt.figure(figsize=(15,5))\n",
        "sns.countplot( data=new_hotel_df, x = 'stays_in_weekend_nights').set_title('Number of stays on weekend nights', fontsize = 20)"
      ],
      "metadata": {
        "id": "L-lenEEzmKaj"
      },
      "execution_count": null,
      "outputs": []
    },
    {
      "cell_type": "code",
      "source": [
        "plt.figure(figsize=(15,5))\n",
        "sns.countplot(data = new_hotel_df, x = 'stays_in_week_nights' ).set_title('Number of stays on weekday night' , fontsize = 20)"
      ],
      "metadata": {
        "id": "iWdWTnUzmzkG"
      },
      "execution_count": null,
      "outputs": []
    },
    {
      "cell_type": "markdown",
      "source": [
        "**What do we see this time?**\n",
        "\n",
        "It seems that majority of the stays are over the weekend_ night which is very obvious due to the weekly holidays."
      ],
      "metadata": {
        "id": "LMUY00Ranc64"
      }
    },
    {
      "cell_type": "markdown",
      "source": [
        "# Analysis on total nights stays"
      ],
      "metadata": {
        "id": "-hmH1xTGL01Z"
      }
    },
    {
      "cell_type": "code",
      "source": [
        "# Total count of night stays.\n",
        "night_stays = new_hotel_df['total_night_stays'].value_counts().sort_values()\n",
        "night_stays"
      ],
      "metadata": {
        "id": "k6sVVWaRL48K"
      },
      "execution_count": null,
      "outputs": []
    },
    {
      "cell_type": "code",
      "source": [
        "# Visualisation of night stay data till 20 nights.\n",
        "sns.set(style='whitegrid')\n",
        "plt.figure(figsize=(12,8))\n",
        "sns.countplot(x=new_hotel_df['total_night_stays'],palette = 'colorblind')\n",
        "plt.xlim(0.5,20.5)\n",
        "plt.title('NIGHT STAYS',fontsize=20)\n",
        "plt.xlabel('NUMBER OF NIGHTS', fontsize=15)\n",
        "plt.ylabel('COUNT', fontsize=15)\n",
        "plt.show()\n",
        "\n",
        "# Most preffered number of night stays by the guest are 1,2,3,4,5 & 7."
      ],
      "metadata": {
        "id": "owKYj5eYL7x9"
      },
      "execution_count": null,
      "outputs": []
    },
    {
      "cell_type": "markdown",
      "source": [
        "**What do we see?**\n",
        "\n",
        "Higher number of customers prefer staying for 3 nights in general."
      ],
      "metadata": {
        "id": "TtQZcsF592Q0"
      }
    },
    {
      "cell_type": "markdown",
      "source": [
        "# Kind of visitors coming for a stay"
      ],
      "metadata": {
        "id": "PKbIO_wrn_fH"
      }
    },
    {
      "cell_type": "code",
      "source": [
        "sns.countplot(data = new_hotel_df, x = 'adults', hue = 'hotel').set_title(\"Number of adults\", fontsize = 20)"
      ],
      "metadata": {
        "id": "nFkeuOL5oP9g"
      },
      "execution_count": null,
      "outputs": []
    },
    {
      "cell_type": "code",
      "source": [
        "sns.countplot(data = new_hotel_df, x = 'children', hue = 'hotel').set_title(\"Number of children\", fontsize = 20)"
      ],
      "metadata": {
        "id": "472UarhdodVm"
      },
      "execution_count": null,
      "outputs": []
    },
    {
      "cell_type": "code",
      "source": [
        "sns.countplot(data = new_hotel_df, x = 'babies', hue = 'hotel').set_title(\"Number of babies\", fontsize = 20)"
      ],
      "metadata": {
        "id": "9dcxiXxoopuI"
      },
      "execution_count": null,
      "outputs": []
    },
    {
      "cell_type": "markdown",
      "source": [
        "**What do we see here?**\n",
        "\n",
        "It seems that majority of the visitors travel in pair. Those who travel with children or babies have no specific preference for the type of hotel."
      ],
      "metadata": {
        "id": "NrRzsu8ECX9E"
      }
    },
    {
      "cell_type": "markdown",
      "source": [
        "# Looking into which countries the visitors are from\n",
        "\n",
        "**We will want visitors with no cancellation.**"
      ],
      "metadata": {
        "id": "AldzHyOaCZCU"
      }
    },
    {
      "cell_type": "code",
      "source": [
        "country_visitors =new_hotel_df[new_hotel_df['is_canceled'] == 'not_canceled'].groupby(['country']).size().reset_index(name = 'count')\n",
        "\n",
        "# We will be using Plotly.express to plot a choropleth map. Big fan of Plotly here!\n",
        "import plotly.express as px\n",
        "\n",
        "px.choropleth(country_visitors,\n",
        "                    locations = \"country\",\n",
        "                    color= \"count\",\n",
        "                    hover_name= \"country\", # column to add to hover information\n",
        "                    color_continuous_scale=px.colors.sequential.Plasma,\n",
        "                    title=\"Home country of visitors\")"
      ],
      "metadata": {
        "id": "9yMP4A6VCwXZ"
      },
      "execution_count": null,
      "outputs": []
    },
    {
      "cell_type": "markdown",
      "source": [
        "**What do we see?**\n",
        "\n",
        "We have a huge number of visitors from western europe, namely France,UK and Portugal being the highest.\n"
      ],
      "metadata": {
        "id": "35Y8ihzjDbc0"
      }
    },
    {
      "cell_type": "markdown",
      "source": [
        "# ADR based on top 10 countries"
      ],
      "metadata": {
        "id": "NoH10Ir0Ml18"
      }
    },
    {
      "cell_type": "code",
      "source": [
        "# Countries with best 'adr'.\n",
        "# Considering top 10 countries.\n",
        "country_adr = new_hotel_df.groupby(['country'])['adr'].mean().sort_values(ascending = False)[0:10]\n",
        "print(country_adr)\n",
        "\n",
        "# Visualisation.\n",
        "country_adr.plot(kind='bar', figsize=(14,6),color='olivedrab',width=0.8)\n",
        "plt.title('ADR OF TOP 10 COUNTRIES',fontsize=20)\n",
        "plt.xlabel('Country',fontsize=15)\n",
        "plt.ylabel('ADR',fontsize=15)\n",
        "plt.show()\n",
        "\n",
        "# 'Dji' have the highest ADR."
      ],
      "metadata": {
        "id": "WPVINT_UfKqa"
      },
      "execution_count": null,
      "outputs": []
    },
    {
      "cell_type": "markdown",
      "source": [
        "**What do we see?**\n",
        "\n",
        "'DJI' has the highest average ADR among all countries."
      ],
      "metadata": {
        "id": "Hig-7-xONaBk"
      }
    },
    {
      "cell_type": "markdown",
      "source": [
        "# Looking into market segments and distribution channel\n",
        "\n"
      ],
      "metadata": {
        "id": "riLp7y9brHca"
      }
    },
    {
      "cell_type": "code",
      "source": [
        "num_segments = new_hotel_df['market_segment'].nunique()\n",
        "\n",
        "# Define a custom color palette with enough colors\n",
        "custom_colors = sns.color_palette(\"Set2\", num_segments)\n",
        "\n",
        "plt.figure(figsize=(10, 5))\n",
        "sns.countplot(data=new_hotel_df, x='market_segment', hue='market_segment', palette=custom_colors, dodge=False, legend=False)\n",
        "plt.title('Types of Market Segment', fontsize=20)\n",
        "plt.show()"
      ],
      "metadata": {
        "id": "QQ-DWHW5rHca"
      },
      "execution_count": null,
      "outputs": []
    },
    {
      "cell_type": "code",
      "source": [
        "plt.figure(figsize=(10,5))\n",
        "sns.countplot(data = new_hotel_df, x = 'distribution_channel').set_title('Types of distribution channel', fontsize = 20)"
      ],
      "metadata": {
        "id": "tF6YJRvnIV4b"
      },
      "execution_count": null,
      "outputs": []
    },
    {
      "cell_type": "markdown",
      "source": [
        "**What do we see here?**\n",
        "\n",
        "Majority of the distribution channels and market segments involve travel agencies (online or offline).\n",
        "We can target our marketing area to be on these travel agencies website and work with them since majority of the visitors tend to reach out to them."
      ],
      "metadata": {
        "id": "GFUE20yhIfSy"
      }
    },
    {
      "cell_type": "markdown",
      "source": [
        "# Looking into deposit types"
      ],
      "metadata": {
        "id": "dPSHgoGIIqXa"
      }
    },
    {
      "cell_type": "code",
      "source": [
        "\n",
        "plt.figure(figsize=(8,5))\n",
        "sns.countplot(data =new_hotel_df, x = 'deposit_type').set_title('Graph showing types of deposits', fontsize = 20)"
      ],
      "metadata": {
        "id": "1YqKHWizIxLa"
      },
      "execution_count": null,
      "outputs": []
    },
    {
      "cell_type": "markdown",
      "source": [
        "**What do we see here?**\n",
        "\n",
        "Majority of the booking does not require deposit. That could explain why cancellation rate was actually 40% of non-cancellation rate."
      ],
      "metadata": {
        "id": "sPPv4utjTPk5"
      }
    },
    {
      "cell_type": "markdown",
      "source": [
        "# Overview of repeated guests"
      ],
      "metadata": {
        "id": "VkxBd2-PTiyy"
      }
    },
    {
      "cell_type": "code",
      "source": [
        "sns.countplot(data =new_hotel_df, x = 'is_repeated_guest').set_title('Graph showing whether guest is repeated guest', fontsize = 20)"
      ],
      "metadata": {
        "id": "52SYBzXmToWk"
      },
      "execution_count": null,
      "outputs": []
    },
    {
      "cell_type": "markdown",
      "source": [
        "**What do we see here?**\n",
        "\n",
        "Low number of repeated guests.\n",
        "There is a need to target repeated guests by providing offers or any kind of attractive package so that the previous visitors re-visit."
      ],
      "metadata": {
        "id": "H-w49FMeTv3q"
      }
    },
    {
      "cell_type": "markdown",
      "source": [
        "# Looking at types of guests"
      ],
      "metadata": {
        "id": "plco1555T1Hy"
      }
    },
    {
      "cell_type": "code",
      "source": [
        "sns.countplot(data = new_hotel_df, x = 'customer_type').set_title('Graph showing type of guest', fontsize = 20)"
      ],
      "metadata": {
        "id": "3_ONdZU9T4Xb"
      },
      "execution_count": null,
      "outputs": []
    },
    {
      "cell_type": "markdown",
      "source": [
        "**What do we see here?**\n",
        "\n",
        "Majority of the bookings are transient. This means that the booking is not part of a group or contract. With the ease of booking directly from the website, most people tend to skip the middleman to ensure quick response from their booking."
      ],
      "metadata": {
        "id": "ov6zTw05UDke"
      }
    },
    {
      "cell_type": "markdown",
      "source": [
        "# Looking into prices per month per hotel\n",
        "average daily rate = Sum of all lodging transaction/ Total number of staying night\n",
        "\n",
        "average daily rate per person = ADR/ Adult+ Children\n",
        "\n",
        "We will need to find out average daily rate per person"
      ],
      "metadata": {
        "id": "SWQaChCdUfPL"
      }
    },
    {
      "cell_type": "code",
      "source": [
        "# Resizing plot\n",
        "plt.figure(figsize=(12,5))\n",
        "\n",
        "# Calculating average daily rate per person\n",
        "new_hotel_df['adr_pp'] = new_hotel_df['adr'] / (new_hotel_df['adults'] + new_hotel_df['children'])\n",
        "actual_guests = new_hotel_df.loc[new_hotel_df[\"is_canceled\"] == 'not_canceled']\n",
        "actual_guests['price'] = actual_guests['adr'] * (actual_guests['stays_in_weekend_nights'] + actual_guests['stays_in_week_nights'])\n",
        "sns.lineplot(data = actual_guests, x = 'arrival_date_month', y = 'price', hue = 'hotel')"
      ],
      "metadata": {
        "id": "23Nkl8JSUq_i"
      },
      "execution_count": null,
      "outputs": []
    },
    {
      "cell_type": "markdown",
      "source": [
        "**What can we see here?**\n",
        "\n",
        "Prices of resort hotel are much higher in the month of August. Maybe this is the reson Resort Hotels are not booked that much. City hotels on the other hand has a stable price throughout the year. This is the reason why city hotels are preffered more.\n",
        "\n",
        "The month of August has the highest booking rate so may be Resort hotels should reduce their pricing to get more bookings."
      ],
      "metadata": {
        "id": "R5f82rxJGahd"
      }
    },
    {
      "cell_type": "markdown",
      "source": [
        "# Meal Analysis"
      ],
      "metadata": {
        "id": "ft3AsQE8HkWH"
      }
    },
    {
      "cell_type": "code",
      "source": [
        "# Unique meal type.\n",
        "unique_meal_count=new_hotel_df['meal'].value_counts()\n",
        "unique_meal_count"
      ],
      "metadata": {
        "id": "HanD7W4FHxsg"
      },
      "execution_count": null,
      "outputs": []
    },
    {
      "cell_type": "code",
      "source": [
        "# Percentage of meal type count.\n",
        "percentage_meal_count = new_hotel_df['meal'].value_counts(normalize= True)*100\n",
        "percentage_meal_count"
      ],
      "metadata": {
        "id": "oaupWbSIH1fU"
      },
      "execution_count": null,
      "outputs": []
    },
    {
      "cell_type": "code",
      "source": [
        "# Visualisation of percentage meal count\n",
        "percentage_meal_count.plot(kind = 'pie',labels=percentage_meal_count.index,figsize=(15,10),autopct='%0.1f%%',colors=['lightcoral','yellow','royalblue','brown','white'],fontsize=15)\n",
        "plt.title('PERCENTAGE OF MEAL PREFERENCE', fontsize=20)\n",
        "plt.show()"
      ],
      "metadata": {
        "id": "3mIdKYMcH3p-"
      },
      "execution_count": null,
      "outputs": []
    },
    {
      "cell_type": "markdown",
      "source": [
        "**What do we see?**\n",
        "\n",
        "\n",
        "\n",
        "Here we can see most preferable meal is BB. This plan includes a room for the night and breakfast the next morning. It is a populaly taken as most of the customer visit for travel purpose.The normally want a meal included but plan to eat the rest of their meals outside the hotel."
      ],
      "metadata": {
        "id": "Ik04QBJeIWpw"
      }
    },
    {
      "cell_type": "markdown",
      "source": [
        "# Requirement of Car parking"
      ],
      "metadata": {
        "id": "xnMZvg2orIPt"
      }
    },
    {
      "cell_type": "code",
      "source": [
        "# Car parking requirement count.\n",
        "car_parking = new_hotel_df['required_car_parking_spaces'].value_counts()\n",
        "car_parking"
      ],
      "metadata": {
        "id": "BIKEKoqErIPu"
      },
      "execution_count": null,
      "outputs": []
    },
    {
      "cell_type": "code",
      "source": [
        "# Visualisation.\n",
        "car_parking.plot(kind='line',color='brown',linestyle=':',linewidth=5,figsize =(12,6))\n",
        "plt.title('CAR PARKING SPACE ANALYSIS',fontsize = 20)\n",
        "plt.ylabel('COUNT',fontsize = 15)\n",
        "plt.xlabel('NUMBER OF PARKING SPACE',fontsize = 15)\n",
        "plt.grid(True)\n",
        "plt.show()"
      ],
      "metadata": {
        "id": "HwIOYEE9LjVu"
      },
      "execution_count": null,
      "outputs": []
    },
    {
      "cell_type": "markdown",
      "source": [
        "**What do we see?**\n",
        "\n",
        "Most of the hotels have no car parking. If they have, they have single car parking."
      ],
      "metadata": {
        "id": "NHBP8tJeLdJ0"
      }
    },
    {
      "cell_type": "markdown",
      "source": [
        "# How do waiting days affect ADR?"
      ],
      "metadata": {
        "id": "oQ-pHCWMHO92"
      }
    },
    {
      "cell_type": "code",
      "source": [
        "# command for applying a style\n",
        "plt.style.use('dark_background')"
      ],
      "metadata": {
        "id": "-6GTfuViHSAY"
      },
      "execution_count": null,
      "outputs": []
    },
    {
      "cell_type": "code",
      "source": [
        "# Chart - 8 visualization code\n",
        "plt.scatter(hotel_booking_df['days_in_waiting_list'],hotel_booking_df['adr'])\n",
        "plt.xlabel('Waiting days')\n",
        "plt.ylabel('ADR')\n",
        "plt.title('Waiting days VS ADR')\n",
        "plt.show()"
      ],
      "metadata": {
        "id": "nHc9ueYouDOw"
      },
      "execution_count": null,
      "outputs": []
    },
    {
      "cell_type": "markdown",
      "source": [
        "**What do we see?**\n",
        "\n",
        "When the number of waiting days are low then there is high chance of getting good ADR.Hotels should do something to reduce the waiting period so that they can earn more profit."
      ],
      "metadata": {
        "id": "Mal1wQlpHSAZ"
      }
    },
    {
      "cell_type": "markdown",
      "source": [
        "# ADR on the basis of month"
      ],
      "metadata": {
        "id": "UpY0Tp_tRBQS"
      }
    },
    {
      "cell_type": "code",
      "source": [
        "\n",
        "# Chart - 10 visualization code\n",
        "plt.style.use('ggplot')\n",
        "df=hotel_booking_df.groupby('arrival_date_month')['adr'].sum()\n",
        "plt.plot(df)\n",
        "plt.xlabel('Months')\n",
        "plt.ylabel('ADR')\n",
        "plt.title('Months vs ADR')\n",
        "plt.xticks(rotation='vertical')\n",
        "plt.show()"
      ],
      "metadata": {
        "id": "xyC9zolEZNRQ"
      },
      "execution_count": null,
      "outputs": []
    },
    {
      "cell_type": "markdown",
      "source": [
        "**What do we see?**\n",
        "\n",
        "August month has the highest amount of ADR and January month has the lowest.\n",
        "In months,which are generating less ADR, hotels should provide some more lucrative offers to attract more customers in those months as well.So that hotels can earn more profit."
      ],
      "metadata": {
        "id": "YPEH6qLeZNRQ"
      }
    },
    {
      "cell_type": "markdown",
      "source": [
        "## **5. Solution to Business Objective**"
      ],
      "metadata": {
        "id": "JcMwzZxoAimU"
      }
    },
    {
      "cell_type": "markdown",
      "source": [
        "* As, we see percentage of Resort Hotels getting booked are less compared to City Hotels so maybe some pricing customizations are required. Even we also saw that Resort hotels are more preferable for family so there can be some add-on activity package included to justify the pricing.\n",
        "\n",
        "* For reducing the nunber of booking getting cancelled the hotel should collect feedback from customers. This may give insights on why the cancellation rate is high.\n",
        "\n",
        "* Drop in booking rate compared to previous year is a sign of serious issues. Management should look into it. Targeting months between May to Aug would be preferable. Those are peak months due to the summer period.\n",
        "\n",
        "* Attractive packages can be provided for customers staying for long period. This may increase the number of night stays.\n",
        "\n",
        "* Countries which have low booking rate, reducing the cost of booking upto 50% for them can be a good start for getting visitors. Whereas,\n",
        "for those countries with more visitors, seasonal offers can be a good way to make them re-visit.\n",
        "\n",
        "* For the market segemnts having low contribution in number of bookings hotels should provide domain specific offers so that these market segemnts can also bring more customers to the hotels.\n",
        "\n",
        "\n",
        "* Majority of the distribution channels and market segments involve travel agencies (online or offline). Targeting can be done to focus on  these travel agencies website and work with them since majority of the visitors tend to reach out to them.\n",
        "\n",
        "* It is also understood that the high rate of cancellations can be due high no deposit policies.\n",
        "\n",
        "* Given that the hotel do not have repeated guests, management should target advertisement on guests to increase returning guests.\n",
        "\n",
        "* Car parking provision should be done where there is none. As peoples normally prefer personal vehicles for travelling.\n",
        "\n",
        "* When the number of waiting days are low then there is high chance of getting good ADR.Hotels should do something to reduce the waiting period so that they can earn more profit.\n",
        "\n",
        "\n",
        "\n",
        "\n",
        "\n",
        "\n",
        "\n",
        "\n"
      ],
      "metadata": {
        "id": "0sjxqkK0rIPv"
      }
    },
    {
      "cell_type": "markdown",
      "source": [
        "# **Conclusion**"
      ],
      "metadata": {
        "id": "gCX9965dhzqZ"
      }
    },
    {
      "cell_type": "markdown",
      "source": [
        "To address the lower booking rates for Resort Hotels compared to City Hotels, pricing customizations and family-oriented activity packages should be considered. Collecting customer feedback can provide insights to reduce cancellation rates. The drop in bookings compared to the previous year highlights the need for targeted strategies, especially during peak months (May-August). Offering attractive packages for long stays, discounts for low-booking countries, and domain-specific offers for underperforming market segments can help increase bookings. Collaboration with travel agencies and addressing high no-deposit policies could reduce cancellations. Additionally, enhancing car parking availability and focusing on reducing waiting days can improve profitability and guest retention."
      ],
      "metadata": {
        "id": "DC1MboInT5lv"
      }
    }
  ]
}